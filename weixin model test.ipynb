{
 "cells": [
  {
   "cell_type": "code",
   "execution_count": 1,
   "metadata": {
    "collapsed": false
   },
   "outputs": [
    {
     "name": "stderr",
     "output_type": "stream",
     "text": [
      "Using TensorFlow backend.\n"
     ]
    }
   ],
   "source": [
    "from keras.models import load_model\n",
    "from generator import captcha_generator as gen\n",
    "import string\n",
    "from tqdm import tqdm\n",
    "import numpy as np\n",
    "from matplotlib import pyplot as plt\n",
    "import cv2"
   ]
  },
  {
   "cell_type": "code",
   "execution_count": 2,
   "metadata": {
    "collapsed": false
   },
   "outputs": [],
   "source": [
    "chars = string.ascii_lowercase + string.ascii_uppercase\n",
    "width, height, n_len, n_class = 130, 53, 4, len(chars)"
   ]
  },
  {
   "cell_type": "code",
   "execution_count": 3,
   "metadata": {
    "collapsed": false
   },
   "outputs": [
    {
     "name": "stderr",
     "output_type": "stream",
     "text": [
      "/home/ubuntu/anaconda2/lib/python2.7/site-packages/keras/models.py:248: UserWarning: No training configuration found in save file: the model was *not* compiled. Compile it manually.\n",
      "  warnings.warn('No training configuration found in save file: '\n"
     ]
    }
   ],
   "source": [
    "model = load_model('weixin_trained_model.h5')"
   ]
  },
  {
   "cell_type": "code",
   "execution_count": 4,
   "metadata": {
    "collapsed": true
   },
   "outputs": [],
   "source": [
    "def decode(y):\n",
    "    y = np.argmax(np.array(y), axis=2)[:,0]\n",
    "    return ''.join([chars[x] for x in y])"
   ]
  },
  {
   "cell_type": "code",
   "execution_count": 5,
   "metadata": {
    "collapsed": true
   },
   "outputs": [],
   "source": [
    "def evaluate(model, batch_num=20):\n",
    "    batch_acc = 0\n",
    "    generator = gen(width=width, height=height)\n",
    "    for i in tqdm(range(batch_num)):\n",
    "        X, y = generator.next()\n",
    "        y_pred = model.predict(X)\n",
    "        batch_acc += np.mean(map(np.array_equal, np.argmax(y, axis=2).T, np.argmax(y_pred, axis=2).T))\n",
    "    return batch_acc / batch_num"
   ]
  },
  {
   "cell_type": "code",
   "execution_count": 6,
   "metadata": {
    "collapsed": false
   },
   "outputs": [
    {
     "name": "stderr",
     "output_type": "stream",
     "text": [
      "100%|██████████| 20/20 [00:28<00:00,  1.33s/it]"
     ]
    },
    {
     "name": "stdout",
     "output_type": "stream",
     "text": [
      "0.0796875\n"
     ]
    },
    {
     "name": "stderr",
     "output_type": "stream",
     "text": [
      "\n"
     ]
    }
   ],
   "source": [
    "print evaluate(model)"
   ]
  },
  {
   "cell_type": "code",
   "execution_count": 7,
   "metadata": {
    "collapsed": true
   },
   "outputs": [],
   "source": [
    "generator = gen(width=width, height=height, batch_size=1)"
   ]
  },
  {
   "cell_type": "code",
   "execution_count": 8,
   "metadata": {
    "collapsed": true
   },
   "outputs": [],
   "source": [
    "X, y = generator.next()"
   ]
  },
  {
   "cell_type": "code",
   "execution_count": 9,
   "metadata": {
    "collapsed": false
   },
   "outputs": [
    {
     "data": {
      "text/plain": [
       "'yFwM'"
      ]
     },
     "execution_count": 9,
     "metadata": {},
     "output_type": "execute_result"
    }
   ],
   "source": [
    "X.shape\n",
    "decode(y)"
   ]
  },
  {
   "cell_type": "code",
   "execution_count": 10,
   "metadata": {
    "collapsed": true
   },
   "outputs": [],
   "source": [
    "def yevaluate(model, cnt=1000):\n",
    "    batch_acc = 0\n",
    "    generator = gen(width=width, height=height, batch_size=1)\n",
    "    for _ in tqdm(range(cnt)):\n",
    "        X, y = generator.next()\n",
    "        y_pred = model.predict(X)\n",
    "        if decode(y).lower() == decode(y_pred).lower():\n",
    "            batch_acc += 1\n",
    "    return float(batch_acc) / cnt"
   ]
  },
  {
   "cell_type": "code",
   "execution_count": 11,
   "metadata": {
    "collapsed": false
   },
   "outputs": [
    {
     "name": "stderr",
     "output_type": "stream",
     "text": [
      "100%|██████████| 10000/10000 [04:16<00:00, 39.02it/s]"
     ]
    },
    {
     "name": "stdout",
     "output_type": "stream",
     "text": [
      "0.9398\n"
     ]
    },
    {
     "name": "stderr",
     "output_type": "stream",
     "text": [
      "\n"
     ]
    }
   ],
   "source": [
    "print yevaluate(model, 10000)"
   ]
  },
  {
   "cell_type": "markdown",
   "metadata": {},
   "source": [
    "# 生成函数测试"
   ]
  },
  {
   "cell_type": "code",
   "execution_count": 12,
   "metadata": {
    "collapsed": false,
    "scrolled": true
   },
   "outputs": [
    {
     "data": {
      "image/png": "[encoded data removed]",
      "text/plain": [
       "<matplotlib.figure.Figure at 0x7fa11f564690>"
      ]
     },
     "metadata": {},
     "output_type": "display_data"
    },
    {
     "name": "stdout",
     "output_type": "stream",
     "text": [
      "y: OzYB\n",
      "pred_y: OZYB\n"
     ]
    }
   ],
   "source": [
    "a = gen(width=width, height=height, batch_size=1)\n",
    "X, y = a.next()\n",
    "pred_y = model.predict(X)\n",
    "plt.imshow(cv2.cvtColor(X[0], cv2.COLOR_BGR2RGB))\n",
    "plt.show()\n",
    "print 'y:', decode(y)\n",
    "print 'pred_y:', decode(pred_y)"
   ]
  },
  {
   "cell_type": "code",
   "execution_count": 13,
   "metadata": {
    "collapsed": false
   },
   "outputs": [
    {
     "data": {
      "text/plain": [
       "array([[[[237, 247, 254],\n",
       "         [237, 247, 254],\n",
       "         [237, 247, 254],\n",
       "         [237, 247, 254],\n",
       "         [237, 247, 254],\n",
       "         [237, 247, 254],\n",
       "         [237, 247, 254]],\n",
       "\n",
       "        [[237, 247, 254],\n",
       "         [237, 247, 254],\n",
       "         [237, 247, 254],\n",
       "         [237, 247, 254],\n",
       "         [237, 247, 254],\n",
       "         [237, 247, 254],\n",
       "         [237, 247, 254]],\n",
       "\n",
       "        [[237, 247, 254],\n",
       "         [237, 247, 254],\n",
       "         [237, 247, 254],\n",
       "         [237, 247, 254],\n",
       "         [237, 247, 254],\n",
       "         [237, 247, 254],\n",
       "         [237, 247, 254]],\n",
       "\n",
       "        [[237, 247, 254],\n",
       "         [237, 247, 254],\n",
       "         [237, 247, 254],\n",
       "         [237, 247, 254],\n",
       "         [237, 247, 254],\n",
       "         [237, 247, 254],\n",
       "         [237, 247, 254]],\n",
       "\n",
       "        [[237, 247, 254],\n",
       "         [237, 247, 254],\n",
       "         [237, 247, 254],\n",
       "         [237, 247, 254],\n",
       "         [237, 247, 254],\n",
       "         [237, 247, 254],\n",
       "         [237, 247, 254]],\n",
       "\n",
       "        [[237, 247, 254],\n",
       "         [237, 247, 254],\n",
       "         [237, 247, 254],\n",
       "         [237, 247, 254],\n",
       "         [237, 247, 254],\n",
       "         [237, 247, 254],\n",
       "         [237, 247, 254]]]], dtype=uint8)"
      ]
     },
     "execution_count": 13,
     "metadata": {},
     "output_type": "execute_result"
    }
   ],
   "source": [
    "X[:, 12:18, 3:10]"
   ]
  },
  {
   "cell_type": "markdown",
   "metadata": {},
   "source": [
    "# 实测"
   ]
  },
  {
   "cell_type": "code",
   "execution_count": 14,
   "metadata": {
    "collapsed": false
   },
   "outputs": [],
   "source": [
    "test_path = os.getcwd() + '/sample'\n",
    "root, dirs, files = os.walk(test_path).next()\n",
    "\n",
    "def getAllImages(path):\n",
    "    cnt = len(files)\n",
    "    X = np.zeros((cnt, height, width, 3), dtype=np.uint8)\n",
    "    y = []\n",
    "    for i, j in enumerate(files):\n",
    "        X[i] = cv2.imread(root+'/'+j)\n",
    "        #img = cv2.imread(root+'/'+j)\n",
    "        #b, g, r = cv2.split(img)\n",
    "        #X[i] = cv2.merge([r, g, b])\n",
    "        y.append(j[:4])\n",
    "    return X, y\n",
    "\n",
    "allX, ally = getAllImages(test_path)"
   ]
  },
  {
   "cell_type": "code",
   "execution_count": 15,
   "metadata": {
    "collapsed": false,
    "scrolled": true
   },
   "outputs": [],
   "source": [
    "pred_y = model.predict(allX[2].reshape(X.shape))"
   ]
  },
  {
   "cell_type": "code",
   "execution_count": 16,
   "metadata": {
    "collapsed": false
   },
   "outputs": [
    {
     "data": {
      "text/plain": [
       "'NwHy'"
      ]
     },
     "execution_count": 16,
     "metadata": {},
     "output_type": "execute_result"
    }
   ],
   "source": [
    "decode(pred_y)"
   ]
  },
  {
   "cell_type": "code",
   "execution_count": 17,
   "metadata": {
    "collapsed": false
   },
   "outputs": [
    {
     "data": {
      "image/png": "[encoded data removed]",
      "text/plain": [
       "<matplotlib.figure.Figure at 0x7fa161b2e490>"
      ]
     },
     "metadata": {},
     "output_type": "display_data"
    }
   ],
   "source": [
    "plt.imshow(cv2.cvtColor(allX[6], cv2.COLOR_BGR2RGB))\n",
    "plt.show()"
   ]
  },
  {
   "cell_type": "code",
   "execution_count": 18,
   "metadata": {
    "collapsed": true
   },
   "outputs": [
    {
     "data": {
      "text/plain": [
       "array([[[ 83, 120, 142],\n",
       "        [ 94, 132, 156]],\n",
       "\n",
       "       [[ 77, 114, 136],\n",
       "        [ 81, 119, 143]],\n",
       "\n",
       "       [[ 74, 110, 134],\n",
       "        [ 76, 113, 139]],\n",
       "\n",
       "       [[ 79, 115, 139],\n",
       "        [ 92, 129, 157]],\n",
       "\n",
       "       [[ 91, 125, 149],\n",
       "        [115, 152, 180]],\n",
       "\n",
       "       [[ 95, 129, 153],\n",
       "        [120, 157, 185]],\n",
       "\n",
       "       [[ 93, 124, 149],\n",
       "        [104, 138, 167]],\n",
       "\n",
       "       [[ 90, 118, 142],\n",
       "        [ 84, 117, 143]],\n",
       "\n",
       "       [[194, 221, 242],\n",
       "        [158, 188, 213]],\n",
       "\n",
       "       [[220, 244, 255],\n",
       "        [197, 224, 245]],\n",
       "\n",
       "       [[232, 252, 255],\n",
       "        [227, 249, 255]],\n",
       "\n",
       "       [[230, 246, 255],\n",
       "        [231, 247, 255]],\n",
       "\n",
       "       [[226, 238, 248],\n",
       "        [229, 243, 255]],\n",
       "\n",
       "       [[235, 244, 253],\n",
       "        [240, 249, 255]],\n",
       "\n",
       "       [[239, 247, 254],\n",
       "        [248, 254, 255]],\n",
       "\n",
       "       [[234, 243, 247],\n",
       "        [243, 250, 253]]], dtype=uint8)"
      ]
     },
     "execution_count": 18,
     "metadata": {},
     "output_type": "execute_result"
    }
   ],
   "source": [
    "allX[6][32:48, 6:8]"
   ]
  },
  {
   "cell_type": "code",
   "execution_count": 19,
   "metadata": {
    "collapsed": false
   },
   "outputs": [
    {
     "data": {
      "text/plain": [
       "'febe'"
      ]
     },
     "execution_count": 19,
     "metadata": {},
     "output_type": "execute_result"
    }
   ],
   "source": [
    "al = ally[0]\n",
    "al.lower()"
   ]
  },
  {
   "cell_type": "code",
   "execution_count": 20,
   "metadata": {
    "collapsed": false,
    "scrolled": true
   },
   "outputs": [
    {
     "name": "stdout",
     "output_type": "stream",
     "text": [
      "the total correct number is 270\n",
      "the right rate is 27.66%\n"
     ]
    }
   ],
   "source": [
    "count = len(ally)\n",
    "correct = 0\n",
    "for i, j in zip(allX, ally):\n",
    "    predy = model.predict(i.reshape(X.shape))\n",
    "    predy = decode(predy)\n",
    "    if predy.lower() == j.lower():\n",
    "        correct += 1\n",
    "print 'the total correct number is %d' %correct\n",
    "print 'the right rate is %.2f%%' %(float(correct)/count*100)"
   ]
  },
  {
   "cell_type": "code",
   "execution_count": 22,
   "metadata": {
    "collapsed": true
   },
   "outputs": [],
   "source": [
    "b, g, r = cv2.split(allX[6])"
   ]
  },
  {
   "cell_type": "code",
   "execution_count": 23,
   "metadata": {
    "collapsed": true
   },
   "outputs": [],
   "source": [
    "rgb_img = cv2.merge([r, g, b])"
   ]
  },
  {
   "cell_type": "code",
   "execution_count": 24,
   "metadata": {
    "collapsed": false
   },
   "outputs": [
    {
     "data": {
      "image/png": "[encoded data removed]",
      "text/plain": [
       "<matplotlib.figure.Figure at 0x7fa11ef81410>"
      ]
     },
     "metadata": {},
     "output_type": "display_data"
    }
   ],
   "source": [
    "plt.imshow(rgb_img)\n",
    "plt.show()"
   ]
  },
  {
   "cell_type": "code",
   "execution_count": null,
   "metadata": {
    "collapsed": true
   },
   "outputs": [],
   "source": []
  }
 ],
 "metadata": {
  "kernelspec": {
   "display_name": "Python 2",
   "language": "python",
   "name": "python2"
  },
  "language_info": {
   "codemirror_mode": {
    "name": "ipython",
    "version": 2
   },
   "file_extension": ".py",
   "mimetype": "text/x-python",
   "name": "python",
   "nbconvert_exporter": "python",
   "pygments_lexer": "ipython2",
   "version": "2.7.13"
  }
 },
 "nbformat": 4,
 "nbformat_minor": 2
}
